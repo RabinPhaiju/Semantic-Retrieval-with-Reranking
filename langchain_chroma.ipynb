{
 "cells": [
  {
   "cell_type": "code",
   "execution_count": 10,
   "metadata": {},
   "outputs": [],
   "source": [
    "from langchain_community.document_loaders import JSONLoader\n",
    "from langchain.text_splitter import RecursiveCharacterTextSplitter\n",
    "from sentence_transformers import SentenceTransformer\n",
    "from langchain.embeddings import SentenceTransformerEmbeddings\n",
    "from langchain.vectorstores import Chroma"
   ]
  },
  {
   "cell_type": "code",
   "execution_count": 11,
   "metadata": {},
   "outputs": [],
   "source": [
    "file_path = 'data.json'\n",
    "persist_directory = \"chroma_db\"  # Directory to store the database\n",
    "model_name = \"sentence-transformers/all-MiniLM-L6-v2\"\n",
    "sentence_model = SentenceTransformer(model_name)"
   ]
  },
  {
   "cell_type": "code",
   "execution_count": 12,
   "metadata": {},
   "outputs": [],
   "source": [
    "embedding = SentenceTransformerEmbeddings(model_name=model_name)"
   ]
  },
  {
   "cell_type": "code",
   "execution_count": 13,
   "metadata": {},
   "outputs": [],
   "source": [
    "def metadata_func(record: dict, metadata: dict) -> dict:\n",
    "\n",
    "    metadata[\"title\"] = record.get(\"metadata\").get(\"title\").lower()\n",
    "    metadata[\"tags\"] = \",\".join(str(e) for e in record.get(\"metadata\").get(\"tags\"))\n",
    "    if \"source\" in metadata:\n",
    "        source = metadata[\"source\"].split(\"/\")\n",
    "        metadata[\"source\"] = source[-1]\n",
    "\n",
    "    return metadata"
   ]
  },
  {
   "cell_type": "code",
   "execution_count": 14,
   "metadata": {},
   "outputs": [
    {
     "name": "stdout",
     "output_type": "stream",
     "text": [
      "10\n",
      "page_content='The Eiffel Tower is a wrought-iron lattice tower located in Paris, France.' metadata={'source': 'data.json', 'seq_num': 1, 'title': 'eiffel tower', 'tags': 'landmark,Paris,France,Eiffel Tower'}\n"
     ]
    }
   ],
   "source": [
    "loader = JSONLoader(\n",
    "    file_path=file_path,\n",
    "    jq_schema='.[]',\n",
    "    content_key=\"content\",\n",
    "    metadata_func=metadata_func\n",
    "    )\n",
    "\n",
    "textDocs = loader.load()\n",
    "print(len(textDocs))\n",
    "print(textDocs[0])"
   ]
  },
  {
   "cell_type": "code",
   "execution_count": 15,
   "metadata": {},
   "outputs": [
    {
     "name": "stdout",
     "output_type": "stream",
     "text": [
      "10\n",
      "page_content='The Eiffel Tower is a wrought-iron lattice tower located in Paris, France.' metadata={'source': 'data.json', 'seq_num': 1, 'title': 'eiffel tower', 'tags': 'landmark,Paris,France,Eiffel Tower'}\n"
     ]
    }
   ],
   "source": [
    "text_splitter = RecursiveCharacterTextSplitter(\n",
    "    chunk_size=256,\n",
    "    chunk_overlap=50,\n",
    "    length_function=len,\n",
    ")\n",
    "docs = text_splitter.split_documents(textDocs)\n",
    "print(len(docs))\n",
    "print(docs[0])"
   ]
  },
  {
   "cell_type": "code",
   "execution_count": 16,
   "metadata": {},
   "outputs": [],
   "source": [
    "vectordb = Chroma.from_documents(documents=docs, embedding=embedding, persist_directory=persist_directory)"
   ]
  },
  {
   "cell_type": "code",
   "execution_count": 8,
   "metadata": {},
   "outputs": [
    {
     "name": "stdout",
     "output_type": "stream",
     "text": [
      "content: The Mona Lisa is a famous portrait painting by Leonardo da Vinci.\n",
      "seq_num: 5 - data.json\n",
      "title: mona lisa\n",
      "------------\n",
      "content: The Colosseum in Rome is an ancient amphitheater used for gladiatorial contests and public spectacles.\n",
      "seq_num: 10 - data.json\n",
      "title: the colosseum\n",
      "------------\n",
      "content: The Apollo 11 mission was the first to land humans on the Moon in 1969.\n",
      "seq_num: 7 - data.json\n",
      "title: apollo 11 mission\n",
      "------------\n",
      "content: The Great Wall of China is a series of fortifications made of stone, brick, and other materials.\n",
      "seq_num: 2 - data.json\n",
      "title: great wall of china\n",
      "------------\n",
      "content: The Eiffel Tower is a wrought-iron lattice tower located in Paris, France.\n",
      "seq_num: 1 - data.json\n",
      "title: eiffel tower\n",
      "------------\n"
     ]
    }
   ],
   "source": [
    "query = \"Who painted the Mona Lisa, and why is it famous?\"\n",
    "filter_title = \"Mona Lisa\"\n",
    "results = vectordb.similarity_search(\n",
    "        query, k=5,\n",
    "        # filter={\"title\": filter_title}\n",
    "    )\n",
    "\n",
    "# Print results\n",
    "for res in results:\n",
    "    print('content:',res.page_content)\n",
    "    print('seq_num:',res.metadata['seq_num'],'-',res.metadata['source'])\n",
    "    print('title:',res.metadata['title'])\n",
    "    print(\"------------\")"
   ]
  },
  {
   "cell_type": "code",
   "execution_count": 9,
   "metadata": {},
   "outputs": [
    {
     "name": "stderr",
     "output_type": "stream",
     "text": [
      "/var/folders/hc/b8l9b44n7d1g3shm1sbymfv80000gn/T/ipykernel_37476/3647190304.py:3: LangChainDeprecationWarning: The class `Chroma` was deprecated in LangChain 0.2.9 and will be removed in 1.0. An updated version of the class exists in the :class:`~langchain-chroma package and should be used instead. To use it run `pip install -U :class:`~langchain-chroma` and import as `from :class:`~langchain_chroma import Chroma``.\n",
      "  vectordb = Chroma(persist_directory=persist_directory, embedding_function=embedding)\n"
     ]
    },
    {
     "name": "stdout",
     "output_type": "stream",
     "text": [
      "content: Python is a high-level programming language known for its simplicity and readability.\n",
      "seq_num: 4 - data.json\n",
      "tags: programming,Python,software,technology\n",
      "title: python programming language\n",
      "score: 0.4027660194964654\n",
      "------------\n",
      "content: The Mediterranean diet is known for its health benefits and emphasis on fruits, vegetables, and olive oil.\n",
      "seq_num: 8 - data.json\n",
      "tags: diet,health,Mediterranean,nutrition\n",
      "title: mediterranean diet\n",
      "score: -0.3175599833835492\n",
      "------------\n",
      "content: The Colosseum in Rome is an ancient amphitheater used for gladiatorial contests and public spectacles.\n",
      "seq_num: 10 - data.json\n",
      "tags: landmark,Rome,Colosseum,history\n",
      "title: the colosseum\n",
      "score: -0.3339251824767211\n",
      "------------\n",
      "content: The Mona Lisa is a famous portrait painting by Leonardo da Vinci.\n",
      "seq_num: 5 - data.json\n",
      "tags: art,painting,Mona Lisa,Leonardo da Vinci\n",
      "title: mona lisa\n",
      "score: -0.3798670793439547\n",
      "------------\n",
      "content: The Great Wall of China is a series of fortifications made of stone, brick, and other materials.\n",
      "seq_num: 2 - data.json\n",
      "tags: landmark,China,Great Wall,history\n",
      "title: great wall of china\n",
      "score: -0.38099462766792147\n",
      "------------\n"
     ]
    },
    {
     "name": "stderr",
     "output_type": "stream",
     "text": [
      "/var/folders/hc/b8l9b44n7d1g3shm1sbymfv80000gn/T/ipykernel_37476/3647190304.py:4: UserWarning: Relevance scores must be between 0 and 1, got [(Document(metadata={'seq_num': 4, 'source': 'data.json', 'tags': 'programming,Python,software,technology', 'title': 'python programming language'}, page_content='Python is a high-level programming language known for its simplicity and readability.'), 0.4027660194964654), (Document(metadata={'seq_num': 8, 'source': 'data.json', 'tags': 'diet,health,Mediterranean,nutrition', 'title': 'mediterranean diet'}, page_content='The Mediterranean diet is known for its health benefits and emphasis on fruits, vegetables, and olive oil.'), -0.3175599833835492), (Document(metadata={'seq_num': 10, 'source': 'data.json', 'tags': 'landmark,Rome,Colosseum,history', 'title': 'the colosseum'}, page_content='The Colosseum in Rome is an ancient amphitheater used for gladiatorial contests and public spectacles.'), -0.3339251824767211), (Document(metadata={'seq_num': 5, 'source': 'data.json', 'tags': 'art,painting,Mona Lisa,Leonardo da Vinci', 'title': 'mona lisa'}, page_content='The Mona Lisa is a famous portrait painting by Leonardo da Vinci.'), -0.3798670793439547), (Document(metadata={'seq_num': 2, 'source': 'data.json', 'tags': 'landmark,China,Great Wall,history', 'title': 'great wall of china'}, page_content='The Great Wall of China is a series of fortifications made of stone, brick, and other materials.'), -0.38099462766792147)]\n",
      "  results = vectordb.similarity_search_with_relevance_scores(query, k=5)\n"
     ]
    }
   ],
   "source": [
    "# # Load existing Chroma vectorstore\n",
    "query = \"what is programming language?\"\n",
    "vectordb = Chroma(persist_directory=persist_directory, embedding_function=embedding)\n",
    "results = vectordb.similarity_search_with_relevance_scores(query, k=5)\n",
    "for res in results:\n",
    "    data = res[0]\n",
    "    print('content:',data.page_content)\n",
    "    print('seq_num:',data.metadata['seq_num'],'-',data.metadata['source'])\n",
    "    print('tags:',data.metadata['tags'])\n",
    "    print('title:',data.metadata['title'])\n",
    "    print('score:',res[1])\n",
    "    print(\"------------\")"
   ]
  },
  {
   "cell_type": "code",
   "execution_count": null,
   "metadata": {},
   "outputs": [],
   "source": []
  }
 ],
 "metadata": {
  "kernelspec": {
   "display_name": "venv",
   "language": "python",
   "name": "python3"
  },
  "language_info": {
   "codemirror_mode": {
    "name": "ipython",
    "version": 3
   },
   "file_extension": ".py",
   "mimetype": "text/x-python",
   "name": "python",
   "nbconvert_exporter": "python",
   "pygments_lexer": "ipython3",
   "version": "3.10.11"
  }
 },
 "nbformat": 4,
 "nbformat_minor": 2
}
