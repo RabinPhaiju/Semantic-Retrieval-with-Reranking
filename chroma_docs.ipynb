{
 "cells": [
  {
   "cell_type": "code",
   "execution_count": 1,
   "metadata": {},
   "outputs": [],
   "source": [
    "import chromadb"
   ]
  },
  {
   "cell_type": "code",
   "execution_count": 6,
   "metadata": {},
   "outputs": [],
   "source": [
    "chroma_client = chromadb.Client() # emphermeral client\n",
    "# chroma_client = chromadb.PersistentClient(path=\"chroma_db\") # uses sqlite3 with persistent storage"
   ]
  },
  {
   "cell_type": "code",
   "execution_count": null,
   "metadata": {},
   "outputs": [],
   "source": [
    "collection = chroma_client.get_or_create_collection(# https://docs.trychroma.com/docs/embeddings/embedding-functions\n",
    "    name=\"pp_blog\",\n",
    "    metadata={\n",
    "        \"description\": \"A collection of blog posts from the PocketPandit blog\",\n",
    "        \"source\": \"https://blog.pocketpandit.com\",\n",
    "        \"hnsw:space\": \"cosine\", # https://docs.trychroma.com/docs/collections/configure\n",
    "            # cosine (for cosine similarity)\n",
    "            # l2 or euclidean (for Euclidean distance)\n",
    "            # ip or inner_product (for inner product)\n",
    "        \"hnsw:construction_ef\": 128, # default is 100\n",
    "        \"hnsw:M\": 32, # default is 16\n",
    "        \"hnsw:search_ef\": 128,\n",
    "    },\n",
    "    )\n",
    "# Custom embedding function https://docs.trychroma.com/docs/embeddings/embedding-functions\n",
    "# collection = chroma_client.create_collection(name=\"pp_blog\", embedding_function=emb_fn)\n",
    "# collection = chroma_client.get_collection(name=\"pp_blog\", embedding_function=emb_fn)\n",
    "# chroma_client.delete_collection(name=\"my_collection\")\n",
    "# collection.peek() # returns the first 5 items in the collection\n",
    "# collection.count() # returns the number of items in the collection\n"
   ]
  },
  {
   "cell_type": "code",
   "execution_count": 8,
   "metadata": {},
   "outputs": [
    {
     "data": {
      "text/plain": [
       "0"
      ]
     },
     "execution_count": 8,
     "metadata": {},
     "output_type": "execute_result"
    }
   ],
   "source": [
    "collection.database.count('chroma_db') # returns the number of items in the collection"
   ]
  },
  {
   "cell_type": "code",
   "execution_count": null,
   "metadata": {},
   "outputs": [],
   "source": [
    "# add data\n",
    "collection.add(\n",
    "    documents=[\n",
    "        \"This is a document about pineapple\",\n",
    "        \"This is a document about oranges\"\n",
    "    ],\n",
    "    # embeddings=[]\n",
    "    metadatas=[\n",
    "        {\"id\": \"id1\", \"title\": \"Pineapple\"},\n",
    "        {\"id\": \"id2\", \"title\": \"Oranges\"}\n",
    "    ],\n",
    "    ids=[\"id1\", \"id2\"]\n",
    ")\n"
   ]
  },
  {
   "cell_type": "code",
   "execution_count": 6,
   "metadata": {},
   "outputs": [],
   "source": [
    "# update data\n",
    "collection.update(\n",
    "    documents=[\n",
    "        \"This is a document about pineapple\",\n",
    "        \"This is a document about oranges\"\n",
    "    ],\n",
    "    # embeddings=[]\n",
    "    metadatas=[\n",
    "        {\"id\": \"id1\", \"title\": \"Pineapple\"},\n",
    "        {\"id\": \"id2\", \"title\": \"Oranges\"}\n",
    "    ],\n",
    "    ids=[\"id1\", \"id2\"]\n",
    ")"
   ]
  },
  {
   "cell_type": "code",
   "execution_count": 7,
   "metadata": {},
   "outputs": [],
   "source": [
    "# upsert data (update if exists, else insert)\n",
    "collection.upsert(\n",
    "    documents=[\n",
    "        \"This is a document about pineapple\",\n",
    "        \"This is a document about oranges\"\n",
    "    ],\n",
    "    # embeddings=[]\n",
    "    metadatas=[\n",
    "        {\"id\": \"id1\", \"title\": \"Pineapple\"},\n",
    "        {\"id\": \"id2\", \"title\": \"Oranges\"}\n",
    "    ],\n",
    "    ids=[\"id1\", \"id2\"]\n",
    ")"
   ]
  },
  {
   "cell_type": "code",
   "execution_count": 8,
   "metadata": {},
   "outputs": [],
   "source": [
    "# delete data\n",
    "collection.delete(ids=[\"id1\", \"id2\"],where={\"title\": \"Pineapple\"})"
   ]
  },
  {
   "cell_type": "code",
   "execution_count": 9,
   "metadata": {},
   "outputs": [
    {
     "name": "stderr",
     "output_type": "stream",
     "text": [
      "Number of requested results 2 is greater than number of elements in index 1, updating n_results = 1\n"
     ]
    },
    {
     "name": "stdout",
     "output_type": "stream",
     "text": [
      "{'ids': [['id2']], 'embeddings': None, 'documents': [['This is a document about oranges']], 'uris': None, 'data': None, 'metadatas': [[{'id': 'id2', 'title': 'Oranges'}]], 'distances': [[0.6894368746509796]], 'included': [<IncludeEnum.distances: 'distances'>, <IncludeEnum.documents: 'documents'>, <IncludeEnum.metadatas: 'metadatas'>]}\n"
     ]
    }
   ],
   "source": [
    "# query\n",
    "results = collection.query(\n",
    "    # query_embeddings=[]\n",
    "    query_texts=[\"document of huwai\"], # Chroma will embed this for you\n",
    "    # query_uris=[],\n",
    "    n_results=2, # how many results to return\n",
    "    # where={\"title\": \"Oranges\"}, # case sensitive\n",
    "    # where_document={\"$contains\": \"orange\"}, # [\"$contains\", \"$not_contains\", \"$and\", \"$or\"]\n",
    ")\n",
    "print(results)\n"
   ]
  },
  {
   "cell_type": "code",
   "execution_count": 10,
   "metadata": {},
   "outputs": [
    {
     "name": "stdout",
     "output_type": "stream",
     "text": [
      "{'ids': ['id2'], 'embeddings': None, 'documents': ['This is a document about oranges'], 'uris': None, 'data': None, 'metadatas': [{'id': 'id2', 'title': 'Oranges'}], 'included': [<IncludeEnum.documents: 'documents'>, <IncludeEnum.metadatas: 'metadatas'>]}\n"
     ]
    }
   ],
   "source": [
    "# get\n",
    "result = collection.get(\n",
    "    ids=[\"id1\", \"id2\"],\n",
    "    where={\n",
    "        \"title\": \"Oranges\",\n",
    "        # \"title\": {\"$in\":[\"Oranges\", \"Pineapple\"]}\n",
    "        # \"title\": {\"$eq\": \"Oranges\"}, # eq,ne,gt,gte,lt,lte # can combine multiple filters # https://docs.trychroma.com/docs/querying-collections/metadata-filtering\n",
    "        },\n",
    "    limit= 2,\n",
    "    # offset= 1,\n",
    "    where_document= {\"$contains\": \"orange\"},\n",
    "    include= [\"metadatas\", \"documents\"]\n",
    "    )\n",
    "print(result)"
   ]
  },
  {
   "cell_type": "code",
   "execution_count": 13,
   "metadata": {},
   "outputs": [
    {
     "name": "stderr",
     "output_type": "stream",
     "text": [
      "Number of requested results 2 is greater than number of elements in index 1, updating n_results = 1\n"
     ]
    },
    {
     "name": "stdout",
     "output_type": "stream",
     "text": [
      "{'ids': [['id2']], 'embeddings': None, 'documents': [['This is a document about oranges']], 'uris': None, 'data': None, 'metadatas': [[{'id': 'id2', 'title': 'Oranges'}]], 'distances': [[0.6894368746509796]], 'included': [<IncludeEnum.distances: 'distances'>, <IncludeEnum.documents: 'documents'>, <IncludeEnum.metadatas: 'metadatas'>]}\n"
     ]
    }
   ],
   "source": [
    "# full text search\n",
    "results = collection.query(\n",
    "    query_texts=[\"document of huwai\"],\n",
    "    n_results=2,\n",
    "    where={\"title\": \"Oranges\"},\n",
    "    where_document={\"$contains\":\"is a\"}, # to search in the document\n",
    ")\n",
    "print(results)"
   ]
  },
  {
   "cell_type": "code",
   "execution_count": null,
   "metadata": {},
   "outputs": [],
   "source": []
  }
 ],
 "metadata": {
  "kernelspec": {
   "display_name": "venv",
   "language": "python",
   "name": "python3"
  },
  "language_info": {
   "codemirror_mode": {
    "name": "ipython",
    "version": 3
   },
   "file_extension": ".py",
   "mimetype": "text/x-python",
   "name": "python",
   "nbconvert_exporter": "python",
   "pygments_lexer": "ipython3",
   "version": "3.10.11"
  }
 },
 "nbformat": 4,
 "nbformat_minor": 2
}
