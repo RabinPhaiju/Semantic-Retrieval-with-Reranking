{
 "cells": [
  {
   "cell_type": "code",
   "execution_count": 1,
   "metadata": {},
   "outputs": [
    {
     "name": "stderr",
     "output_type": "stream",
     "text": [
      "/Users/rabinphaiju/Desktop/rag_document/venv/lib/python3.10/site-packages/tqdm/auto.py:21: TqdmWarning: IProgress not found. Please update jupyter and ipywidgets. See https://ipywidgets.readthedocs.io/en/stable/user_install.html\n",
      "  from .autonotebook import tqdm as notebook_tqdm\n"
     ]
    }
   ],
   "source": [
    "from langchain_community.document_loaders import JSONLoader\n",
    "from langchain.text_splitter import RecursiveCharacterTextSplitter,CharacterTextSplitter\n",
    "from sentence_transformers import SentenceTransformer\n",
    "from langchain.vectorstores import DocArrayInMemorySearch\n",
    "from langchain.embeddings import HuggingFaceEmbeddings\n",
    "from sklearn.metrics.pairwise import cosine_similarity"
   ]
  },
  {
   "cell_type": "code",
   "execution_count": 2,
   "metadata": {},
   "outputs": [],
   "source": [
    "file_path = 'data.json'\n",
    "model_name = \"sentence-transformers/all-MiniLM-L6-v2\"\n",
    "sentence_model = SentenceTransformer(model_name)"
   ]
  },
  {
   "cell_type": "code",
   "execution_count": 3,
   "metadata": {},
   "outputs": [],
   "source": [
    "def metadata_func(record: dict, metadata: dict) -> dict:\n",
    "\n",
    "    metadata[\"title\"] = record.get(\"metadata\").get(\"title\")\n",
    "    metadata[\"tags\"] = record.get(\"metadata\").get(\"tags\")\n",
    "    if \"source\" in metadata:\n",
    "        source = metadata[\"source\"].split(\"/\")\n",
    "        metadata[\"source\"] = source[-1]\n",
    "\n",
    "    return metadata\n"
   ]
  },
  {
   "cell_type": "code",
   "execution_count": 4,
   "metadata": {},
   "outputs": [
    {
     "name": "stdout",
     "output_type": "stream",
     "text": [
      "10\n",
      "page_content='The Eiffel Tower is a wrought-iron lattice tower located in Paris, France.' metadata={'source': 'data.json', 'seq_num': 1, 'title': 'Eiffel Tower', 'tags': ['landmark', 'Paris', 'France', 'Eiffel Tower']}\n"
     ]
    }
   ],
   "source": [
    "loader = JSONLoader(\n",
    "    file_path=file_path,\n",
    "    jq_schema='.[]',\n",
    "    content_key=\"content\",\n",
    "    metadata_func=metadata_func\n",
    "    )\n",
    "\n",
    "textDocs = loader.load()\n",
    "print(len(textDocs))\n",
    "print(textDocs[0])"
   ]
  },
  {
   "cell_type": "code",
   "execution_count": 5,
   "metadata": {},
   "outputs": [],
   "source": [
    "# Not recursive, takes all the text and splits it into chunks\n",
    "# text_splitter = CharacterTextSplitter(chunk_size=256, chunk_overlap=50)\n",
    "# docs = text_splitter.split_documents(textDocs)\n",
    "# print(len(docs))\n",
    "# print(docs[0])"
   ]
  },
  {
   "cell_type": "code",
   "execution_count": 6,
   "metadata": {},
   "outputs": [
    {
     "name": "stdout",
     "output_type": "stream",
     "text": [
      "10\n",
      "page_content='The Eiffel Tower is a wrought-iron lattice tower located in Paris, France.' metadata={'source': 'data.json', 'seq_num': 1, 'title': 'Eiffel Tower', 'tags': ['landmark', 'Paris', 'France', 'Eiffel Tower']}\n"
     ]
    }
   ],
   "source": [
    "text_splitter = RecursiveCharacterTextSplitter(\n",
    "    chunk_size=256,\n",
    "    chunk_overlap=50,\n",
    "    length_function=len,\n",
    ")\n",
    "texts = text_splitter.split_documents(textDocs)\n",
    "print(len(texts))\n",
    "print(texts[0])"
   ]
  },
  {
   "cell_type": "code",
   "execution_count": 7,
   "metadata": {},
   "outputs": [
    {
     "name": "stderr",
     "output_type": "stream",
     "text": [
      "/var/folders/hc/b8l9b44n7d1g3shm1sbymfv80000gn/T/ipykernel_37487/1252836065.py:1: LangChainDeprecationWarning: The class `HuggingFaceEmbeddings` was deprecated in LangChain 0.2.2 and will be removed in 1.0. An updated version of the class exists in the :class:`~langchain-huggingface package and should be used instead. To use it run `pip install -U :class:`~langchain-huggingface` and import as `from :class:`~langchain_huggingface import HuggingFaceEmbeddings``.\n",
      "  embeddings = HuggingFaceEmbeddings(model_name=model_name)\n",
      "/Users/rabinphaiju/Desktop/rag_document/venv/lib/python3.10/site-packages/pydantic/_migration.py:283: UserWarning: `pydantic.error_wrappers:ValidationError` has been moved to `pydantic:ValidationError`.\n",
      "  warnings.warn(f'`{import_path}` has been moved to `{new_location}`.')\n"
     ]
    }
   ],
   "source": [
    "embeddings = HuggingFaceEmbeddings(model_name=model_name)\n",
    "db = DocArrayInMemorySearch.from_documents(\n",
    "    texts, \n",
    "    embedding=embeddings,\n",
    ")"
   ]
  },
  {
   "cell_type": "code",
   "execution_count": 8,
   "metadata": {},
   "outputs": [
    {
     "name": "stdout",
     "output_type": "stream",
     "text": [
      "len: 5\n",
      "content: The Apollo 11 mission was the first to land humans on the Moon in 1969.\n",
      "source: data.json\n",
      "seq_num: 7\n",
      "title: Apollo 11 Mission\n",
      "-------------------\n",
      "content: The Mona Lisa is a famous portrait painting by Leonardo da Vinci.\n",
      "source: data.json\n",
      "seq_num: 5\n",
      "title: Mona Lisa\n",
      "-------------------\n",
      "content: The Colosseum in Rome is an ancient amphitheater used for gladiatorial contests and public spectacles.\n",
      "source: data.json\n",
      "seq_num: 10\n",
      "title: The Colosseum\n",
      "-------------------\n",
      "content: Python is a high-level programming language known for its simplicity and readability.\n",
      "source: data.json\n",
      "seq_num: 4\n",
      "title: Python Programming Language\n",
      "-------------------\n",
      "content: Mount Everest is the highest peak in the world, located in the Himalayas.\n",
      "source: data.json\n",
      "seq_num: 6\n",
      "title: Mount Everest\n",
      "-------------------\n"
     ]
    }
   ],
   "source": [
    "query = \"What was the Apollo 11 mission, and why is it significant?\"\n",
    "response = db.similarity_search(query,k=5,threshold=0.5) #  FAISS, Chroma, or Weaviate, but not DocArrayInMemorySearch\n",
    "# response = db.search(query,k=5,search_type='similarity')\n",
    "# response = db.similarity_search_by_vector(sentence_model.encode(query),k=5)\n",
    "print('len:',len(response))\n",
    "for res in response:\n",
    "    print('content:',res.page_content)\n",
    "    print('source:',res.metadata['source'])\n",
    "    print('seq_num:',res.metadata['seq_num'])\n",
    "    print('title:',res.metadata['title'])\n",
    "    # print('tags:',res.metadata['tags'])\n",
    "    print('-------------------')"
   ]
  },
  {
   "cell_type": "code",
   "execution_count": 9,
   "metadata": {},
   "outputs": [],
   "source": [
    "query_title = \"Challenges\"\n",
    "docs_with_title = [doc for doc in response if query_title in doc.metadata['title']]\n",
    "for doc in docs_with_title:\n",
    "    print('content:',doc.page_content)\n",
    "    print('source:',doc.metadata['source'])\n",
    "    print('seq_num:',doc.metadata['seq_num'])\n",
    "    print('title:',doc.metadata['title'])\n",
    "    # print('tags:',doc.metadata['tags'])\n",
    "    print('-------------------')"
   ]
  },
  {
   "cell_type": "code",
   "execution_count": 10,
   "metadata": {},
   "outputs": [
    {
     "name": "stdout",
     "output_type": "stream",
     "text": [
      "Similarity: 0.530174970626831 -- The Apollo 11 mission was the first to land humans on the Moon in 1969.\n"
     ]
    }
   ],
   "source": [
    "embeddings1 = sentence_model.encode(query)\n",
    "for res in response:\n",
    "    embeddings2 = sentence_model.encode(res.page_content)\n",
    "    similarity = cosine_similarity(embeddings1.reshape(1, -1), embeddings2.reshape(1, -1))[0][0]\n",
    "    if similarity > 0.3:\n",
    "        print(f\"Similarity: {similarity} -- {res.page_content}\")\n"
   ]
  },
  {
   "cell_type": "code",
   "execution_count": null,
   "metadata": {},
   "outputs": [],
   "source": []
  }
 ],
 "metadata": {
  "kernelspec": {
   "display_name": "venv",
   "language": "python",
   "name": "python3"
  },
  "language_info": {
   "codemirror_mode": {
    "name": "ipython",
    "version": 3
   },
   "file_extension": ".py",
   "mimetype": "text/x-python",
   "name": "python",
   "nbconvert_exporter": "python",
   "pygments_lexer": "ipython3",
   "version": "3.10.11"
  }
 },
 "nbformat": 4,
 "nbformat_minor": 2
}
