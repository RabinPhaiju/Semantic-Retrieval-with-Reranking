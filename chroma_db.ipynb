{
 "cells": [
  {
   "cell_type": "code",
   "execution_count": 1,
   "metadata": {},
   "outputs": [
    {
     "name": "stderr",
     "output_type": "stream",
     "text": [
      "/Users/rabinphaiju/Desktop/rag_document/venv/lib/python3.10/site-packages/tqdm/auto.py:21: TqdmWarning: IProgress not found. Please update jupyter and ipywidgets. See https://ipywidgets.readthedocs.io/en/stable/user_install.html\n",
      "  from .autonotebook import tqdm as notebook_tqdm\n"
     ]
    }
   ],
   "source": [
    "import chromadb\n",
    "from chromadb.utils import embedding_functions\n",
    "from sentence_transformers import CrossEncoder\n",
    "from langchain_community.document_loaders import JSONLoader\n",
    "from langchain.text_splitter import RecursiveCharacterTextSplitter"
   ]
  },
  {
   "cell_type": "code",
   "execution_count": 2,
   "metadata": {},
   "outputs": [],
   "source": [
    "sentence_transformer_ef_L6 = embedding_functions.SentenceTransformerEmbeddingFunction(model_name=\"all-MiniLM-L6-v2\")\n",
    "# sentence_transformer_ef_L12 = embedding_functions.SentenceTransformerEmbeddingFunction(model_name=\"all-MiniLM-L12-v2\")"
   ]
  },
  {
   "cell_type": "code",
   "execution_count": 3,
   "metadata": {},
   "outputs": [],
   "source": [
    "# chroma_client = chromadb.PersistentClient(path=\"chroma_db\") # uses sqlite3 with persistent storage\n",
    "chroma_client = chromadb.Client() # emphermeral client\n",
    "file_path = 'data.json'"
   ]
  },
  {
   "cell_type": "code",
   "execution_count": 4,
   "metadata": {},
   "outputs": [],
   "source": [
    "collection = chroma_client.get_or_create_collection(# https://docs.trychroma.com/docs/embeddings/embedding-functions\n",
    "    name=\"pp_data\",\n",
    "    metadata={\n",
    "        \"description\": \"A collection of blog posts from the PocketPandit blog\",\n",
    "        \"source\": \"https://blog.pocketpandit.com\",\n",
    "        \"hnsw:space\": \"cosine\", # l2,ip,cosine # https://docs.trychroma.com/docs/collections/configure\n",
    "        # \"hnsw:construction_ef\": 128, # default is 100\n",
    "        # \"hnsw:M\": 32, # default is 16\n",
    "        # \"hnsw:search_ef\": 128,\n",
    "    },\n",
    "    embedding_function=sentence_transformer_ef_L6,\n",
    "    )"
   ]
  },
  {
   "cell_type": "code",
   "execution_count": 5,
   "metadata": {},
   "outputs": [],
   "source": [
    "def metadata_func(record: dict, metadata: dict) -> dict:\n",
    "\n",
    "    metadata[\"title\"] = record.get(\"metadata\").get(\"title\").lower()\n",
    "    metadata[\"tags\"] = \",\".join(str(e) for e in record.get(\"metadata\").get(\"tags\"))\n",
    "    if \"source\" in metadata:\n",
    "        source = metadata[\"source\"].split(\"/\")\n",
    "        metadata[\"source\"] = source[-1]\n",
    "\n",
    "    return metadata"
   ]
  },
  {
   "cell_type": "code",
   "execution_count": 6,
   "metadata": {},
   "outputs": [
    {
     "name": "stdout",
     "output_type": "stream",
     "text": [
      "10\n",
      "page_content='The Eiffel Tower is a wrought-iron lattice tower located in Paris, France.' metadata={'source': 'data.json', 'seq_num': 1, 'title': 'eiffel tower', 'tags': 'landmark,Paris,France,Eiffel Tower'}\n"
     ]
    }
   ],
   "source": [
    "loader = JSONLoader(\n",
    "    file_path=file_path,\n",
    "    jq_schema='.[]',\n",
    "    content_key=\"content\",\n",
    "    metadata_func=metadata_func\n",
    "    )\n",
    "\n",
    "textDocs = loader.load()\n",
    "print(len(textDocs))\n",
    "print(textDocs[0])"
   ]
  },
  {
   "cell_type": "code",
   "execution_count": 7,
   "metadata": {},
   "outputs": [
    {
     "name": "stdout",
     "output_type": "stream",
     "text": [
      "10\n",
      "page_content='The Eiffel Tower is a wrought-iron lattice tower located in Paris, France.' metadata={'source': 'data.json', 'seq_num': 1, 'title': 'eiffel tower', 'tags': 'landmark,Paris,France,Eiffel Tower'}\n"
     ]
    }
   ],
   "source": [
    "text_splitter = RecursiveCharacterTextSplitter(\n",
    "    chunk_size=256,\n",
    "    chunk_overlap=50,\n",
    "    length_function=len,\n",
    ")\n",
    "docs = text_splitter.split_documents(textDocs)\n",
    "print(len(docs))\n",
    "print(docs[0])"
   ]
  },
  {
   "cell_type": "code",
   "execution_count": 8,
   "metadata": {},
   "outputs": [],
   "source": [
    "for i,doc in enumerate(docs):\n",
    "    collection.upsert(\n",
    "        documents=[doc.page_content],\n",
    "        metadatas=[doc.metadata],\n",
    "        ids=[f'{doc.metadata[\"seq_num\"]}_{i}_{len(doc.page_content)}'],\n",
    "    )"
   ]
  },
  {
   "cell_type": "code",
   "execution_count": 9,
   "metadata": {},
   "outputs": [
    {
     "name": "stdout",
     "output_type": "stream",
     "text": [
      "ID: 1_0_74 -- distance: 0.20671212673187256\n",
      "content: The Eiffel Tower is a wrought-iron lattice tower located in Paris, France.\n",
      "seq_num: 1 - data.json\n",
      "tags: landmark,Paris,France,Eiffel Tower\n",
      "title: eiffel tower\n",
      "-------------------\n",
      "ID: 2_1_96 -- distance: 0.7786733508110046\n",
      "content: The Great Wall of China is a series of fortifications made of stone, brick, and other materials.\n",
      "seq_num: 2 - data.json\n",
      "tags: landmark,China,Great Wall,history\n",
      "title: great wall of china\n",
      "-------------------\n",
      "ID: 6_5_73 -- distance: 0.7788379192352295\n",
      "content: Mount Everest is the highest peak in the world, located in the Himalayas.\n",
      "seq_num: 6 - data.json\n",
      "tags: mountain,Everest,Himalayas,adventure\n",
      "title: mount everest\n",
      "-------------------\n",
      "ID: 5_4_65 -- distance: 0.8031020760536194\n",
      "content: The Mona Lisa is a famous portrait painting by Leonardo da Vinci.\n",
      "seq_num: 5 - data.json\n",
      "tags: art,painting,Mona Lisa,Leonardo da Vinci\n",
      "title: mona lisa\n",
      "-------------------\n",
      "ID: 10_9_102 -- distance: 0.8532676696777344\n",
      "content: The Colosseum in Rome is an ancient amphitheater used for gladiatorial contests and public spectacles.\n",
      "seq_num: 10 - data.json\n",
      "tags: landmark,Rome,Colosseum,history\n",
      "title: the colosseum\n",
      "-------------------\n"
     ]
    }
   ],
   "source": [
    "# query\n",
    "query = \"What is the Eiffel Tower, and where is it located?\"\n",
    "filter_title = \"Eiffel Tower\"\n",
    "tags = \"Paris, France\"\n",
    "results = collection.query(\n",
    "    query_texts=query,\n",
    "    n_results=5,\n",
    "    # where={\"$or\": [{\"title\": filter_title}, {\"tags\": tags}]},\n",
    "    # where_document={\"$contains\": filter_title},\n",
    ")\n",
    "\n",
    "for id,document,metadata,distance in zip(results[\"ids\"][0],results[\"documents\"][0],results[\"metadatas\"][0],results[\"distances\"][0]):\n",
    "    print(f\"ID: {id} -- distance: {distance}\")\n",
    "    print(f\"content: {document}\")\n",
    "    print(f\"seq_num: {metadata['seq_num']} - {metadata['source']}\")\n",
    "    print(f\"tags: {metadata['tags']}\")\n",
    "    print(f\"title: {metadata['title']}\")\n",
    "    print('-------------------')\n"
   ]
  },
  {
   "cell_type": "code",
   "execution_count": 10,
   "metadata": {},
   "outputs": [],
   "source": [
    "# re-ranker == cross-encoder (type of model) so its slow\n",
    "# cross_encoder = CrossEncoder('cross-encoder/stsb-roberta-large')\n",
    "# cross_encoder = CrossEncoder('cross-encoder/stsb-roberta-base')\n",
    "cross_encoder = CrossEncoder('cross-encoder/ms-marco-TinyBERT-L-6')"
   ]
  },
  {
   "cell_type": "code",
   "execution_count": 11,
   "metadata": {},
   "outputs": [],
   "source": [
    "# recall — how many of the relevant documents are we retrieving # https://www.pinecone.io/learn/series/rag/rerankers/ # https://medium.com/@sahin.samia/what-is-reranking-in-retrieval-augmented-generation-rag-ee3dd93540ee\n",
    "# Reranking involves reordering the results based on a different criterion than the initial similarity search. \n",
    "reranked_results = []\n",
    "for i, result in enumerate(results['documents'][0]):\n",
    "    cross_similarity = cross_encoder.predict([(query, result)])\n",
    "    reranked_results.append({\n",
    "        \"document\": result,\n",
    "        \"metadata\": results['metadatas'][0][i],\n",
    "        \"original_similarity\": 1 - results['distances'][0][i],\n",
    "        \"cross_similarity\": cross_similarity\n",
    "    })\n",
    "reranked_results.sort(key=lambda x: x['cross_similarity'], reverse=True)\n"
   ]
  },
  {
   "cell_type": "code",
   "execution_count": 12,
   "metadata": {},
   "outputs": [
    {
     "name": "stdout",
     "output_type": "stream",
     "text": [
      "original similarity: 0.7932878732681274\n",
      "cross similarity: [0.9133991]\n",
      "title: eiffel tower\n",
      "content: The Eiffel Tower is a wrought-iron lattice tower located in Paris, France.\n",
      "-------------------\n",
      "original similarity: 0.2211620807647705\n",
      "cross similarity: [0.0001883]\n",
      "title: mount everest\n",
      "content: Mount Everest is the highest peak in the world, located in the Himalayas.\n",
      "-------------------\n",
      "original similarity: 0.14673233032226562\n",
      "cross similarity: [0.00018097]\n",
      "title: the colosseum\n",
      "content: The Colosseum in Rome is an ancient amphitheater used for gladiatorial contests and public spectacles.\n",
      "-------------------\n",
      "original similarity: 0.22132664918899536\n",
      "cross similarity: [0.00017619]\n",
      "title: great wall of china\n",
      "content: The Great Wall of China is a series of fortifications made of stone, brick, and other materials.\n",
      "-------------------\n",
      "original similarity: 0.19689792394638062\n",
      "cross similarity: [0.00016135]\n",
      "title: mona lisa\n",
      "content: The Mona Lisa is a famous portrait painting by Leonardo da Vinci.\n",
      "-------------------\n"
     ]
    }
   ],
   "source": [
    "for doc in reranked_results:\n",
    "    print(f\"original similarity: {doc['original_similarity']}\")\n",
    "    print(f\"cross similarity: {doc['cross_similarity']}\")\n",
    "    print(f\"title: {doc['metadata']['title']}\")\n",
    "    print(f\"content: {doc['document']}\")\n",
    "    print('-------------------')"
   ]
  },
  {
   "cell_type": "code",
   "execution_count": null,
   "metadata": {},
   "outputs": [],
   "source": []
  }
 ],
 "metadata": {
  "kernelspec": {
   "display_name": "venv",
   "language": "python",
   "name": "python3"
  },
  "language_info": {
   "codemirror_mode": {
    "name": "ipython",
    "version": 3
   },
   "file_extension": ".py",
   "mimetype": "text/x-python",
   "name": "python",
   "nbconvert_exporter": "python",
   "pygments_lexer": "ipython3",
   "version": "3.10.11"
  }
 },
 "nbformat": 4,
 "nbformat_minor": 2
}
