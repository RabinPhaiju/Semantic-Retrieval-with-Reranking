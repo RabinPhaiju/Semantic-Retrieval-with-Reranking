{
 "cells": [
  {
   "cell_type": "code",
   "execution_count": 29,
   "metadata": {},
   "outputs": [],
   "source": [
    "import chromadb\n",
    "from chromadb.utils import embedding_functions\n",
    "from sentence_transformers import CrossEncoder\n",
    "from langchain_community.document_loaders import JSONLoader\n",
    "from langchain.text_splitter import RecursiveCharacterTextSplitter"
   ]
  },
  {
   "cell_type": "code",
   "execution_count": 30,
   "metadata": {},
   "outputs": [],
   "source": [
    "sentence_transformer_ef_L6 = embedding_functions.SentenceTransformerEmbeddingFunction(model_name=\"all-MiniLM-L6-v2\")\n",
    "# sentence_transformer_ef_L12 = embedding_functions.SentenceTransformerEmbeddingFunction(model_name=\"all-MiniLM-L12-v2\")"
   ]
  },
  {
   "cell_type": "code",
   "execution_count": 31,
   "metadata": {},
   "outputs": [],
   "source": [
    "# re-ranker == cross-encoder (type of model) so its slow\n",
    "# cross_encoder = CrossEncoder('cross-encoder/stsb-roberta-large')\n",
    "# cross_encoder = CrossEncoder('cross-encoder/stsb-roberta-base')\n",
    "cross_encoder = CrossEncoder('cross-encoder/ms-marco-TinyBERT-L-6')"
   ]
  },
  {
   "cell_type": "code",
   "execution_count": 32,
   "metadata": {},
   "outputs": [],
   "source": [
    "# chroma_client = chromadb.PersistentClient(path=\"chroma_db\") # uses sqlite3 with persistent storage\n",
    "chroma_client = chromadb.Client() # emphermeral client\n",
    "file_path = 'mixed_data.json'"
   ]
  },
  {
   "cell_type": "code",
   "execution_count": 33,
   "metadata": {},
   "outputs": [],
   "source": [
    "chroma_client.delete_collection(name=\"pp_data\")\n",
    "collection = chroma_client.get_or_create_collection(# https://docs.trychroma.com/docs/embeddings/embedding-functions\n",
    "    name=\"pp_data\",\n",
    "    metadata={\n",
    "        \"description\": \"A collection of blog posts from the PocketPandit blog\",\n",
    "        \"source\": \"https://blog.pocketpandit.com\",\n",
    "        \"hnsw:space\": \"cosine\", # l2,ip,cosine # https://docs.trychroma.com/docs/collections/configure\n",
    "        # \"hnsw:construction_ef\": 128, # default is 100\n",
    "        # \"hnsw:M\": 32, # default is 16\n",
    "        # \"hnsw:search_ef\": 128,\n",
    "    },\n",
    "    embedding_function=sentence_transformer_ef_L6,\n",
    "    )"
   ]
  },
  {
   "cell_type": "code",
   "execution_count": 34,
   "metadata": {},
   "outputs": [],
   "source": [
    "def metadata_func(record: dict, metadata: dict) -> dict:\n",
    "\n",
    "    metadata[\"title\"] = record.get(\"metadata\").get(\"title\").lower()\n",
    "    metadata[\"tags\"] = \",\".join(str(e) for e in record.get(\"metadata\").get(\"tags\"))\n",
    "    if \"source\" in metadata:\n",
    "        source = metadata[\"source\"].split(\"/\")\n",
    "        metadata[\"source\"] = source[-1]\n",
    "\n",
    "    return metadata"
   ]
  },
  {
   "cell_type": "code",
   "execution_count": 35,
   "metadata": {},
   "outputs": [
    {
     "name": "stdout",
     "output_type": "stream",
     "text": [
      "19\n",
      "page_content='Python is a high-level programming language known for its simplicity and readability.' metadata={'source': 'mixed_data.json', 'seq_num': 1, 'title': 'python', 'tags': 'programming,Python,software,technology'}\n"
     ]
    }
   ],
   "source": [
    "loader = JSONLoader(\n",
    "    file_path=file_path,\n",
    "    jq_schema='.[]',\n",
    "    content_key=\"content\",\n",
    "    metadata_func=metadata_func\n",
    "    )\n",
    "\n",
    "textDocs = loader.load()\n",
    "print(len(textDocs))\n",
    "print(textDocs[0])"
   ]
  },
  {
   "cell_type": "code",
   "execution_count": 36,
   "metadata": {},
   "outputs": [
    {
     "name": "stdout",
     "output_type": "stream",
     "text": [
      "19\n",
      "page_content='Python is a high-level programming language known for its simplicity and readability.' metadata={'source': 'mixed_data.json', 'seq_num': 1, 'title': 'python', 'tags': 'programming,Python,software,technology'}\n"
     ]
    }
   ],
   "source": [
    "text_splitter = RecursiveCharacterTextSplitter(\n",
    "    chunk_size=512,\n",
    "    chunk_overlap=50,\n",
    "    length_function=len,\n",
    ")\n",
    "docs = text_splitter.split_documents(textDocs)\n",
    "print(len(docs))\n",
    "print(docs[0])"
   ]
  },
  {
   "cell_type": "code",
   "execution_count": 37,
   "metadata": {},
   "outputs": [],
   "source": [
    "for i,doc in enumerate(docs):\n",
    "    collection.upsert(\n",
    "        documents=[doc.page_content],\n",
    "        metadatas=[doc.metadata],\n",
    "        ids=[f'{doc.metadata[\"seq_num\"]}_{i}_{len(doc.page_content)}'],\n",
    "    )"
   ]
  },
  {
   "cell_type": "code",
   "execution_count": 42,
   "metadata": {},
   "outputs": [
    {
     "name": "stdout",
     "output_type": "stream",
     "text": [
      "ID: 17_16_90 -- distance: 0.5378316640853882\n",
      "content: The iPhone is a line of smartphones designed by Apple, known for its iOS operating system.\n",
      "seq_num: 17 - mixed_data.json\n",
      "tags: smartphones,iPhone,Apple,technology\n",
      "title: iphone\n",
      "-------------------\n",
      "ID: 16_15_300 -- distance: 0.5423922538757324\n",
      "content: Smartphones are mobile devices with advanced computing capabilities, such as the iPhone and Android. Swift is a powerful and intuitive programming language developed by Apple for iOS, macOS, watchOS, and tvOS. Kotlin is a modern programming language that is fully interoperable with Java and Android.\n",
      "seq_num: 16 - mixed_data.json\n",
      "tags: mobile phones,smartphones,technology,iPhone,Android\n",
      "title: smartphones\n",
      "-------------------\n",
      "ID: 18_17_188 -- distance: 0.5953792929649353\n",
      "content: Android is a mobile operating system developed by Google, used by many smartphone manufacturers. While building android application developers use Kotlin and Java as programming languages.\n",
      "seq_num: 18 - mixed_data.json\n",
      "tags: smartphones,Android,Google,technology\n",
      "title: android os\n",
      "-------------------\n",
      "ID: 19_18_88 -- distance: 0.6339415907859802\n",
      "content: 5G is the fifth generation of mobile networks, offering faster speeds and lower latency.\n",
      "seq_num: 19 - mixed_data.json\n",
      "tags: mobile phones,5G,technology,networks\n",
      "title: 5g technology\n",
      "-------------------\n",
      "ID: 3_2_87 -- distance: 0.8263506293296814\n",
      "content: Java is a programming language used for enterprise-level applications and Android apps.\n",
      "seq_num: 3 - mixed_data.json\n",
      "tags: programming,Java,software,technology\n",
      "title: java\n",
      "-------------------\n",
      "ID: 12_11_81 -- distance: 0.8592046499252319\n",
      "content: The Milky Way is the galaxy that contains our solar system and billions of stars.\n",
      "seq_num: 12 - mixed_data.json\n",
      "tags: galaxy,Milky Way,astronomy,space\n",
      "title: milky way galaxy\n",
      "-------------------\n",
      "ID: 13_12_80 -- distance: 0.880142867565155\n",
      "content: Jupiter is the largest planet in the solar system, known for its Great Red Spot.\n",
      "seq_num: 13 - mixed_data.json\n",
      "tags: planet,Jupiter,solar system,astronomy\n",
      "title: jupiter\n",
      "-------------------\n",
      "ID: 6_5_73 -- distance: 0.8881250619888306\n",
      "content: Mount Everest is the highest peak in the world, located in the Himalayas.\n",
      "seq_num: 6 - mixed_data.json\n",
      "tags: mountain,Everest,Himalayas,adventure\n",
      "title: mount everest\n",
      "-------------------\n",
      "ID: 9_8_85 -- distance: 0.892192542552948\n",
      "content: K2 is the second-highest mountain in the world, located on the China-Pakistan border.\n",
      "seq_num: 9 - mixed_data.json\n",
      "tags: mountain,K2,Himalayas,adventure\n",
      "title: k2\n",
      "-------------------\n",
      "ID: 8_7_89 -- distance: 0.9024723172187805\n",
      "content: The Great Wall of China is a series of fortifications built to protect against invasions.\n",
      "seq_num: 8 - mixed_data.json\n",
      "tags: landmark,China,history,architecture\n",
      "title: great wall of china\n",
      "-------------------\n"
     ]
    }
   ],
   "source": [
    "# query = \"What is programming language used in app development?\"\n",
    "# query = \"In app development, which language is used for mobile app?\"\n",
    "query = \"which is best mobile device?\"\n",
    "\n",
    "# query= \"why space travel is diff from app development?\"\n",
    "# query= \"what landmark is similar to planets?\"\n",
    "\n",
    "results = collection.query(query_texts=query,n_results=10,\n",
    "    # where={\"$or\": [{\"title\": filter_title}, {\"tags\": tags}]},\n",
    "    # where_document={\"$contains\": filter_title},\n",
    ")\n",
    "\n",
    "for id,document,metadata,distance in zip(results[\"ids\"][0],results[\"documents\"][0],results[\"metadatas\"][0],results[\"distances\"][0]):\n",
    "    print(f\"ID: {id} -- distance: {distance}\")\n",
    "    print(f\"content: {document}\")\n",
    "    print(f\"seq_num: {metadata['seq_num']} - {metadata['source']}\")\n",
    "    print(f\"tags: {metadata['tags']}\")\n",
    "    print(f\"title: {metadata['title']}\")\n",
    "    print('-------------------')\n"
   ]
  },
  {
   "cell_type": "code",
   "execution_count": 39,
   "metadata": {},
   "outputs": [
    {
     "name": "stdout",
     "output_type": "stream",
     "text": [
      "original similarity: 0.5897119045257568\n",
      "cross similarity: [0.7230607]\n",
      "title: java\n",
      "content: Java is a programming language used for enterprise-level applications and Android apps.\n",
      "-------------------\n",
      "original similarity: 0.4852185845375061\n",
      "cross similarity: [0.35305983]\n",
      "title: c++\n",
      "content: C++ is a powerful programming language used for system programming, game development, and performance-critical applications.\n",
      "-------------------\n",
      "original similarity: 0.44139719009399414\n",
      "cross similarity: [0.07894752]\n",
      "title: javascript\n",
      "content: JavaScript is a popular programming language used for web development and creating interactive websites.\n",
      "-------------------\n",
      "original similarity: 0.46254658699035645\n",
      "cross similarity: [0.07511047]\n",
      "title: smartphones\n",
      "content: Smartphones are mobile devices with advanced computing capabilities, such as the iPhone and Android. Swift is a powerful and intuitive programming language developed by Apple for iOS, macOS, watchOS, and tvOS. Kotlin is a modern programming language that is fully interoperable with Java and Android.\n",
      "-------------------\n",
      "original similarity: 0.46381306648254395\n",
      "cross similarity: [0.0468429]\n",
      "title: android os\n",
      "content: Android is a mobile operating system developed by Google, used by many smartphone manufacturers. While building android application developers use Kotlin and Java as programming languages.\n",
      "-------------------\n",
      "original similarity: 0.42830920219421387\n",
      "cross similarity: [0.02685776]\n",
      "title: ruby\n",
      "content: Ruby is a dynamic programming language known for its simplicity and productivity, often used in web development.\n",
      "-------------------\n",
      "original similarity: 0.44080960750579834\n",
      "cross similarity: [0.00084621]\n",
      "title: python\n",
      "content: Python is a high-level programming language known for its simplicity and readability.\n",
      "-------------------\n",
      "original similarity: 0.272086501121521\n",
      "cross similarity: [0.00017507]\n",
      "title: iphone\n",
      "content: The iPhone is a line of smartphones designed by Apple, known for its iOS operating system.\n",
      "-------------------\n",
      "original similarity: 0.10458254814147949\n",
      "cross similarity: [0.00017245]\n",
      "title: 5g technology\n",
      "content: 5G is the fifth generation of mobile networks, offering faster speeds and lower latency.\n",
      "-------------------\n",
      "original similarity: 0.1258169412612915\n",
      "cross similarity: [0.00016181]\n",
      "title: milky way galaxy\n",
      "content: The Milky Way is the galaxy that contains our solar system and billions of stars.\n",
      "-------------------\n"
     ]
    }
   ],
   "source": [
    "# recall — how many of the relevant documents are we retrieving # https://www.pinecone.io/learn/series/rag/rerankers/ # https://medium.com/@sahin.samia/what-is-reranking-in-retrieval-augmented-generation-rag-ee3dd93540ee\n",
    "# Reranking involves reordering the results based on a different criterion than the initial similarity search. \n",
    "reranked_results = []\n",
    "for i, result in enumerate(results['documents'][0]):\n",
    "    cross_similarity = cross_encoder.predict([(query, result)])\n",
    "    reranked_results.append({\n",
    "        \"document\": result,\n",
    "        \"metadata\": results['metadatas'][0][i],\n",
    "        \"original_similarity\": 1 - results['distances'][0][i],\n",
    "        \"cross_similarity\": cross_similarity\n",
    "    })\n",
    "reranked_results.sort(key=lambda x: x['cross_similarity'], reverse=True)\n",
    "for doc in reranked_results:\n",
    "    print(f\"original similarity: {doc['original_similarity']}\")\n",
    "    print(f\"cross similarity: {doc['cross_similarity']}\")\n",
    "    print(f\"title: {doc['metadata']['title']}\")\n",
    "    print(f\"content: {doc['document']}\")\n",
    "    print('-------------------')\n"
   ]
  },
  {
   "cell_type": "code",
   "execution_count": null,
   "metadata": {},
   "outputs": [],
   "source": []
  }
 ],
 "metadata": {
  "kernelspec": {
   "display_name": "venv",
   "language": "python",
   "name": "python3"
  },
  "language_info": {
   "codemirror_mode": {
    "name": "ipython",
    "version": 3
   },
   "file_extension": ".py",
   "mimetype": "text/x-python",
   "name": "python",
   "nbconvert_exporter": "python",
   "pygments_lexer": "ipython3",
   "version": "3.10.11"
  }
 },
 "nbformat": 4,
 "nbformat_minor": 2
}
